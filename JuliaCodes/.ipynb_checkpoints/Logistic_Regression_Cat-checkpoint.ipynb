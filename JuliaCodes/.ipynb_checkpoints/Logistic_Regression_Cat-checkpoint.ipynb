{
 "cells": [
  {
   "cell_type": "code",
   "execution_count": 10,
   "metadata": {},
   "outputs": [],
   "source": [
    "using PyPlot;\n",
    "using LinearAlgebra, HDF5\n",
    "\n",
    "train_data = read(h5open(\"/pnas/liujiang_group/yinyao/codes/repos/DataLists/train_catvnoncat.h5\"))\n",
    "test_data = read(h5open(\"/pnas/liujiang_group/yinyao/codes/repos/DataLists/test_catvnoncat.h5\"))\n",
    "\n",
    "train_X = Int.(train_data[\"train_set_x\"])\n",
    "train_Y = train_data[\"train_set_y\"]\n",
    "test_X = Int.(test_data[\"test_set_x\"])\n",
    "test_Y = test_data[\"test_set_y\"]\n",
    ";"
   ]
  },
  {
   "cell_type": "code",
   "execution_count": 20,
   "metadata": {},
   "outputs": [],
   "source": [
    "function sigmoid(x)\n",
    "    1 / (1 + exp(-x))\n",
    "end\n",
    "\n",
    "function zero_init(dim)\n",
    "    w = zeros(dim)\n",
    "    b = 0\n",
    "    return w, b\n",
    "end\n",
    "\n",
    "function propagate(w, b, X, Y)\n",
    "    m = size(X)[2]\n",
    "    Z = w' * X .+ b\n",
    "    A = sigmoid(Z)\n",
    "    cost = -(Y .* log.(A) .+ (1 .- Y) .* log.(1 .- A)) ./ m\n",
    "    dw = X * (A - Y)' ./ m\n",
    "    db = sum(A - Y) / m\n",
    "    return dw, db, cost\n",
    "end\n",
    "\n",
    "function optimize(w, b, X, Y, num_iterations, learning_rate, print_cost = false)\n",
    "    for i in 1:num_iterations\n",
    "        dw, db, cost = propagate(w, b, X, Y)\n",
    "        w -= learning_rate .* dw\n",
    "        b -= learning_rate * db\n",
    "        if print_cost && i % 100 == 0\n",
    "            println(\"Cost after iteration $(i): $(cost)\")\n",
    "        end\n",
    "    end\n",
    "    return w, b\n",
    "end\n",
    "\n",
    "function predict(w, b, X)\n",
    "    m = size(X)[2]\n",
    "    A = sigmoid.(w' * X .+ b)\n",
    "    Y_pred = ifelse.(A .<= 0.5, 0, 1)\n",
    "end\n",
    "\n",
    "function model(train_X, train_Y, test_X, test_Y, num_iterations = 2000, learning_rate = 0.5, print_cost = false)\n",
    "    train_X = reshape(train_X, :, size(train_X)[length(size(train_X))])\n",
    "    train_Y = reshape(train_Y, :, size(train_Y)[length(size(train_Y))])\n",
    "    test_X = reshape(test_X, :, size(test_X)[length(size(test_X))])\n",
    "    test_Y = reshape(test_Y, :, size(test_Y)[length(size(test_Y))])\n",
    "    n = size(train_X)[1]    \n",
    "    w, b = zero_init(n)\n",
    "    w, b = optimize(w, b, train_X, train_Y, num_iterations, learning_rate, print_cost)\n",
    "    train_Y_pred = predict(w, b, train_X)\n",
    "    test_Y_pred = predict(w, b, test_X)\n",
    "    \n",
    "    println(\"train accuracy: $(mean(train_Y_pred .== train_Y) * 100)%\")\n",
    "    println(\"test accuracy: $(mean(test_Y_pred .== test_Y) * 100)%\")\n",
    "end\n",
    ";"
   ]
  },
  {
   "cell_type": "code",
   "execution_count": 22,
   "metadata": {},
   "outputs": [
    {
     "ename": "ErrorException",
     "evalue": "function model does not accept keyword arguments",
     "output_type": "error",
     "traceback": [
      "function model does not accept keyword arguments",
      "",
      "Stacktrace:",
      " [1] kwfunc(::Any) at ./boot.jl:330",
      " [2] top-level scope at In[22]:1"
     ]
    }
   ],
   "source": [
    "model(train_X, train_Y, test_X, test_Y, print_cost = true)"
   ]
  }
 ],
 "metadata": {
  "kernelspec": {
   "display_name": "Julia 1.1.1",
   "language": "julia",
   "name": "julia-1.1"
  },
  "language_info": {
   "file_extension": ".jl",
   "mimetype": "application/julia",
   "name": "julia",
   "version": "1.1.1"
  }
 },
 "nbformat": 4,
 "nbformat_minor": 2
}
