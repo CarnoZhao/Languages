{
 "cells": [
  {
   "cell_type": "code",
   "execution_count": 8,
   "metadata": {
    "collapsed": true
   },
   "outputs": [],
   "source": [
    "using PyPlot;\n",
    "using LinearAlgebra, Statistics, HDF5, Images\n",
    "\n",
    "train_data = read(h5open(\"D:\\\\Download\\\\train_catvnoncat.h5\"))\n",
    "test_data = read(h5open(\"D:\\\\Download\\\\test_catvnoncat.h5\"))\n",
    "\n",
    "train_X = Int.(train_data[\"train_set_x\"]) ./ 255\n",
    "train_Y = train_data[\"train_set_y\"]\n",
    "test_X = Int.(test_data[\"test_set_x\"]) ./ 255\n",
    "test_Y = test_data[\"test_set_y\"]\n",
    ";"
   ]
  },
  {
   "cell_type": "code",
   "execution_count": 9,
   "metadata": {
    "collapsed": true
   },
   "outputs": [],
   "source": [
    "function random_init(n_x, n_h, n_y)\n",
    "    W1 = randn(n_h, n_x) .* 0.01\n",
    "    b1 = zeros(n_h)\n",
    "    W2 = randn(n_y, n_h) .* 0.01\n",
    "    b2 = zeros(n_y)\n",
    "    W1, b1, W2, b2\n",
    "end\n",
    "\n",
    "function forward(parameters, X)\n",
    "    W1, b1, W2, b2 = parameters\n",
    "    Z1 = W1 * X .+ b1\n",
    "    A1 = tanh.(Z1)\n",
    "    Z2 = W2 * A1 .+ b2\n",
    "    A2 = 1 ./ (1 .+ exp.(-Z2))\n",
    "    Z1, A1, Z2, A2\n",
    "end\n",
    "\n",
    "function backward(parameters, cache, X, Y)\n",
    "    W1, b1, W2, b2 = parameters\n",
    "    Z1, A1, Z2, A2 = cache\n",
    "    m = size(X)[2]\n",
    "    cost = -mean(Y .* log.(A2) + (1 .- Y) .* log.(1 .- A2))\n",
    "    dZ2 = A2 - Y\n",
    "    dW2 = dZ2 * A1' ./ m\n",
    "    db2 = mean(dZ2, dims = 2)\n",
    "    dZ1 = W2' * dZ2 .* (1 .- A1 .^ 2)\n",
    "    dW1 = dZ1 * X' / m\n",
    "    db1 = mean(dZ1, dims = 2)\n",
    "    [dW1, db1, dW2, db2], cost\n",
    "end\n",
    "\n",
    "function update_parameters(parameters, grads, learning_rate)\n",
    "    W1, b1, W2, b2 = parameters\n",
    "    dW1, db1, dW2, db2 = grads\n",
    "    W1 -= learning_rate .* dW1\n",
    "    b1 -= learning_rate .* db1\n",
    "    W2 -= learning_rate .* dW2\n",
    "    b2 -= learning_rate .* db2\n",
    "    W1, b1, W2, b2\n",
    "end\n",
    "\n",
    "function predict(parameters, X)\n",
    "    Z1, A1, Z2, A2 = forward(parameters, X)\n",
    "    ifelse.(A2 .<= 0.5, 0, 1)\n",
    "end\n",
    "\n",
    "function model(X, Y; num_iterations = 2000, learning_rate = 0.009)\n",
    "    n_x = size(X)[1]\n",
    "    n_y = size(Y)[1]\n",
    "    n_h = round(Int, sqrt(n_x * n_y))\n",
    "    parameters = random_init(n_x, n_h, n_y)\n",
    "    \n",
    "    for i in 1:num_iterations\n",
    "        cache = forward(parameters, X)\n",
    "        grads, cost = backward(parameters, cache, X, Y)\n",
    "        if i % 100 == 0\n",
    "            println(\"Cost after $(i) iterations: $(round(cost, digits = 3))\")\n",
    "        end\n",
    "        parameters = update_parameters(parameters, grads, learning_rate)\n",
    "    end\n",
    "    parameters\n",
    "end\n",
    "\n",
    "function main(train_X, train_Y, test_X, test_Y; num_iterations = 2000, learning_rate = 0.009)\n",
    "    train_X = reshape(train_X, :, size(train_X)[length(size(train_X))])\n",
    "    train_Y = reshape(train_Y, :, size(train_Y)[length(size(train_Y))])\n",
    "    test_X = reshape(test_X, :, size(test_X)[length(size(test_X))])\n",
    "    test_Y = reshape(test_Y, :, size(test_Y)[length(size(test_Y))])\n",
    "    parameters = model(train_X, train_Y, num_iterations = num_iterations, learning_rate = learning_rate)\n",
    "    train_Y_pred = predict(parameters, train_X)\n",
    "    test_Y_pred = predict(parameters, test_X)\n",
    "    println(\"train accuracy: $(round(mean(train_Y_pred .== train_Y) * 100, digits = 2))%\")\n",
    "    println(\"test accuracy: $(round(mean(test_Y_pred .== test_Y) * 100, digits = 2))%\")\n",
    "    parameters\n",
    "end\n",
    ";"
   ]
  },
  {
   "cell_type": "code",
   "execution_count": 10,
   "metadata": {
    "collapsed": false
   },
   "outputs": [
    {
     "name": "stdout",
     "output_type": "stream",
     "text": [
      "Cost after 100 iterations: 0.634\n",
      "Cost after 200 iterations: 0.596\n",
      "Cost after 300 iterations: 0.535\n",
      "Cost after 400 iterations: 0.463\n",
      "Cost after 500 iterations: 0.387\n",
      "Cost after 600 iterations: 0.315\n",
      "Cost after 700 iterations: 0.363\n",
      "Cost after 800 iterations: 0.315\n",
      "Cost after 900 iterations: 0.272\n",
      "Cost after 1000 iterations: 0.23\n",
      "Cost after 1100 iterations: 0.188\n",
      "Cost after 1200 iterations: 0.144\n",
      "Cost after 1300 iterations: 0.099\n",
      "Cost after 1400 iterations: 0.076\n",
      "Cost after 1500 iterations: 0.064\n",
      "Cost after 1600 iterations: 0.055\n",
      "Cost after 1700 iterations: 0.047\n",
      "Cost after 1800 iterations: 0.042\n",
      "Cost after 1900 iterations: 0.037\n",
      "Cost after 2000 iterations: 0.033\n",
      "train accuracy: 100.0%\n",
      "test accuracy: 72.0%\n"
     ]
    }
   ],
   "source": [
    "parameters = main(train_X, train_Y, test_X, test_Y);"
   ]
  },
  {
   "cell_type": "code",
   "execution_count": 20,
   "metadata": {
    "collapsed": false
   },
   "outputs": [
    {
     "data": {
      "image/png": "[encoded data removed]",
      "text/plain": [
       "Figure(PyObject <Figure size 640x480 with 1 Axes>)"
      ]
     },
     "metadata": {},
     "output_type": "display_data"
    },
    {
     "name": "stdout",
     "output_type": "stream",
     "text": [
      "Prediction: Cat\n",
      "Prediction: Non-cat\n"
     ]
    }
   ],
   "source": [
    "newimg = load(\"D:\\\\Download\\\\cat.jfif\")\n",
    "newimg = channelview(newimg)\n",
    "newimg = imresize(newimg, 3, 64, 64)\n",
    "imshow(permutedims(newimg, [2, 3, 1]))\n",
    "X = reshape(newimg, :, 1)\n",
    "for i in predict(parameters, X)\n",
    "    if i == 1\n",
    "        println(\"Prediction: Cat\")\n",
    "    else\n",
    "        println(\"Prediction: Non-cat\")\n",
    "    end\n",
    "end\n",
    "\n",
    "newimg = load(\"D:\\\\Download\\\\dog.jfif\")\n",
    "newimg = channelview(newimg)\n",
    "newimg = imresize(newimg, 3, 64, 64)\n",
    "#imshow(permutedims(newimg, [2, 3, 1]))\n",
    "X = reshape(newimg, :, 1)\n",
    "for i in predict(parameters, X)\n",
    "    if i == 1\n",
    "        println(\"Prediction: Cat\")\n",
    "    else\n",
    "        println(\"Prediction: Non-cat\")\n",
    "    end\n",
    "end"
   ]
  }
 ],
 "metadata": {
  "anaconda-cloud": {},
  "kernelspec": {
   "display_name": "Julia 1.1.1",
   "language": "julia",
   "name": "julia-1.1"
  },
  "language_info": {
   "file_extension": ".jl",
   "mimetype": "application/julia",
   "name": "julia",
   "version": "1.1.1"
  }
 },
 "nbformat": 4,
 "nbformat_minor": 2
}
