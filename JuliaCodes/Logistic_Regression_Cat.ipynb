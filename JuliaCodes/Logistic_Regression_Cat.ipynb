{
 "cells": [
  {
   "cell_type": "code",
   "execution_count": 54,
   "metadata": {},
   "outputs": [],
   "source": [
    "using PyPlot;\n",
    "using LinearAlgebra, Statistics, HDF5, Images\n",
    "\n",
    "train_data = read(h5open(\"/pnas/liujiang_group/yinyao/codes/repos/DataLists/train_catvnoncat.h5\"))\n",
    "test_data = read(h5open(\"/pnas/liujiang_group/yinyao/codes/repos/DataLists/test_catvnoncat.h5\"))\n",
    "\n",
    "train_X = Int.(train_data[\"train_set_x\"]) ./ 255\n",
    "train_Y = train_data[\"train_set_y\"]\n",
    "test_X = Int.(test_data[\"test_set_x\"]) ./ 255\n",
    "test_Y = test_data[\"test_set_y\"]\n",
    ";"
   ]
  },
  {
   "cell_type": "code",
   "execution_count": 66,
   "metadata": {},
   "outputs": [
    {
     "name": "stdout",
     "output_type": "stream",
     "text": [
      "Cost after iteration 100: 0.4772\n",
      "Cost after iteration 200: 0.8471\n",
      "Cost after iteration 300: 0.5838\n",
      "Cost after iteration 400: 0.4811\n",
      "Cost after iteration 500: 0.3612\n",
      "Cost after iteration 600: 0.2412\n",
      "Cost after iteration 700: 0.1686\n",
      "Cost after iteration 800: 0.1505\n",
      "Cost after iteration 900: 0.1396\n",
      "Cost after iteration 1000: 0.1304\n",
      "Cost after iteration 1100: 0.1224\n",
      "Cost after iteration 1200: 0.1153\n",
      "Cost after iteration 1300: 0.109\n",
      "Cost after iteration 1400: 0.1033\n",
      "Cost after iteration 1500: 0.0982\n",
      "Cost after iteration 1600: 0.0935\n",
      "Cost after iteration 1700: 0.0893\n",
      "Cost after iteration 1800: 0.0854\n",
      "Cost after iteration 1900: 0.0818\n",
      "Cost after iteration 2000: 0.0785\n",
      "train accuracy: 99.52%\n",
      "test accuracy: 70.0%\n"
     ]
    },
    {
     "data": {
      "text/plain": [
       "([0.0132083; -0.0357096; … ; -0.0378226; 0.0330869], -0.0060244826376061825)"
      ]
     },
     "execution_count": 66,
     "metadata": {},
     "output_type": "execute_result"
    }
   ],
   "source": [
    "function sigmoid(x)\n",
    "    1 / (1 + exp(-x))\n",
    "end\n",
    "\n",
    "function zero_init(dim)\n",
    "    w = zeros(dim)\n",
    "    b = 0\n",
    "    w, b\n",
    "end\n",
    "\n",
    "function propagate(w, b, X, Y)\n",
    "    m = size(X)[2]\n",
    "    Z = w' * X .+ b\n",
    "    A = sigmoid.(Z)\n",
    "    cost = -mean(Y .* log.(A) .+ (1 .- Y) .* log.(1 .- A))\n",
    "    dw = X * (A - Y)' ./ m\n",
    "    db = mean(A - Y)\n",
    "    dw, db, cost\n",
    "end\n",
    "\n",
    "function optimize(w, b, X, Y, num_iterations, learning_rate, print_cost = false)\n",
    "    for i in 1:num_iterations\n",
    "        dw, db, cost = propagate(w, b, X, Y)\n",
    "        w -= learning_rate .* dw\n",
    "        b -= learning_rate * db\n",
    "        if print_cost && i % 100 == 0\n",
    "            println(\"Cost after iteration $(i): $(round(cost, digits = 4))\")\n",
    "        end\n",
    "    end\n",
    "    w, b\n",
    "end\n",
    "\n",
    "function predict(w, b, X)\n",
    "    m = size(X)[2]\n",
    "    A = sigmoid.(w' * X .+ b)\n",
    "    Y_pred = ifelse.(A .<= 0.5, 0, 1)\n",
    "end\n",
    "\n",
    "function model(train_X, train_Y, test_X, test_Y; num_iterations = 2000, learning_rate = 0.009, print_cost = false)\n",
    "    train_X = reshape(train_X, :, size(train_X)[length(size(train_X))])\n",
    "    train_Y = reshape(train_Y, :, size(train_Y)[length(size(train_Y))])\n",
    "    test_X = reshape(test_X, :, size(test_X)[length(size(test_X))])\n",
    "    test_Y = reshape(test_Y, :, size(test_Y)[length(size(test_Y))])\n",
    "    n = size(train_X)[1]    \n",
    "    w, b = zero_init(n)\n",
    "    w, b = optimize(w, b, train_X, train_Y, num_iterations, learning_rate, print_cost)\n",
    "    train_Y_pred = predict(w, b, train_X)\n",
    "    test_Y_pred = predict(w, b, test_X)\n",
    "    \n",
    "    println(\"train accuracy: $(round(mean(train_Y_pred .== train_Y) * 100, digits = 2))%\")\n",
    "    println(\"test accuracy: $(round(mean(test_Y_pred .== test_Y) * 100, digits = 2))%\")\n",
    "    w, b\n",
    "end\n",
    "\n",
    "model(train_X, train_Y, test_X, test_Y, num_iterations = 2000, print_cost = true);"
   ]
  },
  {
   "cell_type": "code",
   "execution_count": null,
   "metadata": {},
   "outputs": [
    {
     "name": "stderr",
     "output_type": "stream",
     "text": [
      "┌ Info: Precompiling ImageMagick [6218d12a-5da1-5696-b52f-db25d2ecc6d1]\n",
      "└ @ Base loading.jl:1186\n"
     ]
    }
   ],
   "source": [
    "newimg = load(\"/pnas/liujiang_group/yinyao/codes/repos/DataLists/cat.jfif\")\n"
   ]
  }
 ],
 "metadata": {
  "kernelspec": {
   "display_name": "Julia 1.1.1",
   "language": "julia",
   "name": "julia-1.1"
  },
  "language_info": {
   "file_extension": ".jl",
   "mimetype": "application/julia",
   "name": "julia",
   "version": "1.1.1"
  }
 },
 "nbformat": 4,
 "nbformat_minor": 2
}
