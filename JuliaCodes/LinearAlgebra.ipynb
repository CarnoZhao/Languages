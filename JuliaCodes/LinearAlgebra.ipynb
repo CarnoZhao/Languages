{
 "cells": [
  {
   "cell_type": "code",
   "execution_count": 39,
   "metadata": {},
   "outputs": [],
   "source": [
    "using LinearAlgebra, Random, Plots"
   ]
  },
  {
   "cell_type": "code",
   "execution_count": 40,
   "metadata": {},
   "outputs": [
    {
     "data": {
      "text/plain": [
       "4×4 Array{Int64,2}:\n",
       " -3  -3  -3   0\n",
       " -1  -1   2   2\n",
       " -2  -3   3   0\n",
       "  2   0   3  -1"
      ]
     },
     "execution_count": 40,
     "metadata": {},
     "output_type": "execute_result"
    }
   ],
   "source": [
    "out(x::Array) = display(round.(x, digits = 2))\n",
    "Random.seed!(0)\n",
    "A = rand(-3:3, 4, 4)\n",
    "β = rand(-3:3, 4)\n",
    "E₄ = Matrix{Int}(I, size(A))\n",
    "\n",
    "A"
   ]
  },
  {
   "cell_type": "markdown",
   "metadata": {},
   "source": [
    "### QR分解\n",
    "$A = QR$\n",
    "\n",
    "其中A是一个矩阵，列向量$\\alpha_1, \\alpha_2, ..., \\alpha_n$组线性无关，Q是正交矩阵，$QQ^T = E$，R是主对角元都是整数的上三角矩阵"
   ]
  },
  {
   "cell_type": "code",
   "execution_count": 41,
   "metadata": {},
   "outputs": [
    {
     "data": {
      "text/plain": [
       "4×4 Array{Float64,2}:\n",
       " -0.0  0.0   0.0  -0.0\n",
       "  0.0  0.0   0.0   0.0\n",
       "  0.0  0.0  -0.0   0.0\n",
       " -0.0  0.0   0.0   0.0"
      ]
     },
     "metadata": {},
     "output_type": "display_data"
    },
    {
     "name": "stdout",
     "output_type": "stream",
     "text": [
      "R is tri-upper?\n",
      "true\n"
     ]
    }
   ],
   "source": [
    "Q, R = qr(A)\n",
    "Q = Array(Q)\n",
    "\n",
    "out(Q * Q' - E₄)\n",
    "println(\"R is tri-upper?\\n$(istriu(R))\")"
   ]
  },
  {
   "cell_type": "markdown",
   "metadata": {},
   "source": [
    "## 最小二乘解\n",
    "$AX = \\beta$的最小二乘解是$(A^TA)^{-1}A^T\\beta = R^{-1}Q^T\\beta$"
   ]
  },
  {
   "cell_type": "code",
   "execution_count": 42,
   "metadata": {},
   "outputs": [
    {
     "data": {
      "text/plain": [
       "4-element Array{Float64,1}:\n",
       "  1.67\n",
       " -1.22\n",
       " -0.78\n",
       "  2.0 "
      ]
     },
     "metadata": {},
     "output_type": "display_data"
    },
    {
     "data": {
      "text/plain": [
       "4-element Array{Float64,1}:\n",
       " -0.0\n",
       " -0.0\n",
       " -0.0\n",
       "  0.0"
      ]
     },
     "metadata": {},
     "output_type": "display_data"
    },
    {
     "data": {
      "text/plain": [
       "4-element Array{Float64,1}:\n",
       " -0.0\n",
       "  0.0\n",
       "  0.0\n",
       " -0.0"
      ]
     },
     "metadata": {},
     "output_type": "display_data"
    },
    {
     "data": {
      "text/plain": [
       "4-element Array{Float64,1}:\n",
       "  0.0\n",
       " -0.0\n",
       " -0.0\n",
       "  0.0"
      ]
     },
     "metadata": {},
     "output_type": "display_data"
    }
   ],
   "source": [
    "X = A \\ β\n",
    "out(X)\n",
    "out(A * X - β)\n",
    "out(inv(A' * A) * A' * β - X)\n",
    "out(inv(R) * Q' * β - X)"
   ]
  },
  {
   "cell_type": "markdown",
   "metadata": {},
   "source": [
    "## 特征值和特征向量"
   ]
  },
  {
   "cell_type": "code",
   "execution_count": 43,
   "metadata": {},
   "outputs": [
    {
     "data": {
      "text/plain": [
       "Eigen{Complex{Float64},Complex{Float64},Array{Complex{Float64},2},Array{Complex{Float64},1}}\n",
       "eigenvalues:\n",
       "4-element Array{Complex{Float64},1}:\n",
       " -5.320270718943775 + 0.0im              \n",
       " 2.0733702913015017 + 0.0im              \n",
       " 0.6234502138211354 + 1.921135761200829im\n",
       " 0.6234502138211354 - 1.921135761200829im\n",
       "eigenvectors:\n",
       "4×4 Array{Complex{Float64},2}:\n",
       " -0.739414+0.0im  -0.638788+0.0im  …    0.567085+0.12267im \n",
       "  -0.28969+0.0im    0.58029+0.0im      -0.625245-0.0im     \n",
       "  -0.28219+0.0im   0.499979+0.0im      -0.138245+0.214987im\n",
       "  0.538253+0.0im  0.0723508+0.0im     -0.0857395+0.446938im"
      ]
     },
     "execution_count": 43,
     "metadata": {},
     "output_type": "execute_result"
    }
   ],
   "source": [
    "eigen(A) # eigen = eigenvals - eigvecs"
   ]
  },
  {
   "cell_type": "code",
   "execution_count": 44,
   "metadata": {},
   "outputs": [
    {
     "data": {
      "text/plain": [
       "4×4 Array{Float64,2}:\n",
       " 3.33   0.13   0.65   0.1 \n",
       " 0.13   1.9   -0.2   -0.75\n",
       " 0.65  -0.2    2.96   0.77\n",
       " 0.1   -0.75   0.77   1.81"
      ]
     },
     "metadata": {},
     "output_type": "display_data"
    },
    {
     "data": {
      "text/plain": [
       "4×4 Array{Float64,2}:\n",
       "  0.0  -0.0  0.0  -0.0\n",
       "  0.0   0.0  0.0   0.0\n",
       " -0.0  -0.0  0.0   0.0\n",
       "  0.0  -0.0  0.0   0.0"
      ]
     },
     "metadata": {},
     "output_type": "display_data"
    },
    {
     "data": {
      "text/plain": [
       "4-element Array{Float64,1}:\n",
       " 4.0\n",
       " 3.0\n",
       " 2.0\n",
       " 1.0"
      ]
     },
     "metadata": {},
     "output_type": "display_data"
    },
    {
     "data": {
      "text/plain": [
       "4×4 Array{Float64,2}:\n",
       " -0.67  -0.67   0.33   0.0 \n",
       "  0.13  -0.46  -0.65   0.59\n",
       " -0.67   0.36  -0.61  -0.24\n",
       " -0.31   0.46   0.31   0.77"
      ]
     },
     "metadata": {},
     "output_type": "display_data"
    },
    {
     "name": "stdout",
     "output_type": "stream",
     "text": [
      "det(B) - det(C) = 0.0\n",
      "tr(B) - tr(C) = 0.0\n"
     ]
    }
   ],
   "source": [
    "B = [\n",
    "    1 0 0 0;\n",
    "    0 2 0 0;\n",
    "    0 0 3 0;\n",
    "    0 0 0 4;\n",
    "]\n",
    "\n",
    "P = Array(qr(rand(-2:2, 4, 4)).Q) # 正交矩阵P\n",
    "C = P^-1 * B * P # 正交变换 B -> C\n",
    "out(C)\n",
    "out(C - C') # 实对称矩阵正交相似于对角矩阵\n",
    "out(round.(eigvals(C), digits = 2)) # 特征值不变\n",
    "out(round.(eigvecs(C), digits = 2))\n",
    "\n",
    "println(\"det(B) - det(C) = $(round(det(B) -det(C)))\")\n",
    "println(\"tr(B) - tr(C) = $(round(tr(B) - tr(C)))\")"
   ]
  },
  {
   "cell_type": "markdown",
   "metadata": {},
   "source": [
    "## 正定矩阵"
   ]
  },
  {
   "cell_type": "code",
   "execution_count": 46,
   "metadata": {},
   "outputs": [
    {
     "name": "stdout",
     "output_type": "stream",
     "text": [
      "4.901336328104745 > 0\n"
     ]
    }
   ],
   "source": [
    "α = rand(4)\n",
    "\n",
    "println(\"$(α' * C * α) > 0\")"
   ]
  }
 ],
 "metadata": {
  "kernelspec": {
   "display_name": "Julia 1.1.1",
   "language": "julia",
   "name": "julia-1.1"
  },
  "language_info": {
   "file_extension": ".jl",
   "mimetype": "application/julia",
   "name": "julia",
   "version": "1.1.1"
  }
 },
 "nbformat": 4,
 "nbformat_minor": 2
}
