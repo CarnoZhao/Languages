{
 "cells": [
  {
   "cell_type": "code",
   "execution_count": 2,
   "metadata": {
    "collapsed": false
   },
   "outputs": [],
   "source": [
    "using PyPlot;\n",
    "using LinearAlgebra, Statistics, HDF5, Images\n",
    "\n",
    "train_data = read(h5open(\"../../data/train_catvnoncat.h5\"))\n",
    "test_data = read(h5open(\"../../data/test_catvnoncat.h5\"))\n",
    "\n",
    "train_X = Int.(train_data[\"train_set_x\"]) ./ 255\n",
    "train_Y = train_data[\"train_set_y\"]\n",
    "test_X = Int.(test_data[\"test_set_x\"]) ./ 255\n",
    "test_Y = test_data[\"test_set_y\"]\n",
    ";"
   ]
  },
  {
   "cell_type": "code",
   "execution_count": null,
   "metadata": {
    "collapsed": true
   },
   "outputs": [],
   "source": [
    "function random_initialization(n_x, n_h, n_y)\n",
    "    W1 = randn(n_h, n_x) .* 0.01\n",
    "    b1 = zeros(n_h)\n",
    "    W2 = randn(n_y, n_h) .* 0.01\n",
    "    b2 = zeros(n_y)\n",
    "    W1, b1, W2, b2\n",
    "end\n",
    "\n",
    "function forward(parameters, X)\n",
    "    W1, b1, W2, b2 = parameters\n",
    "    Z1 = W1 * X .+ b1\n",
    "    A2 = tanh.(Z1)\n",
    "    Z2 = W2 * A1 .+ b2\n",
    "    A2 = 1 ./ (1 .+ exp.(-Z2))\n",
    "    Z1, A1, Z2, A2\n",
    "end\n",
    "\n",
    "function backward(parameters, cache, X, Y)\n",
    "    Z1, A1, Z2, A2 = cache\n",
    "    W1, b1, W2, b2 = parameters\n",
    "    cost = -mean(Y .* log.(A2) + (1 .- Y) .* log.(1 .- A2))\n",
    "    dZ2 = A2 - Y\n",
    "    dW2 = dZ2 * A1'\n",
    "    db2 = mean(dZ2, dims = 2)\n",
    "    dZ1 = W2' * dZ2 .* (1 .- A1 .^ 2)\n",
    "    db1 = mean(dZ1, dims = 2)\n",
    "    [dW1, db1, dW2, db2], cost\n",
    "end\n",
    "\n",
    "function new_parameters(parameters, grads, learning_rate)\n",
    "    W1, b1, W2, b2 = parameters\n",
    "    dW1, db1, dW2, db2 = grads\n",
    "    W1 -= learning_rate *"
   ]
  }
 ],
 "metadata": {
  "anaconda-cloud": {},
  "kernelspec": {
   "display_name": "Julia 1.1.1",
   "language": "julia",
   "name": "julia-1.1"
  },
  "language_info": {
   "file_extension": ".jl",
   "mimetype": "application/julia",
   "name": "julia",
   "version": "1.1.1"
  }
 },
 "nbformat": 4,
 "nbformat_minor": 1
}
