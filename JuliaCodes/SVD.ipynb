{
 "cells": [
  {
   "cell_type": "code",
   "execution_count": 160,
   "metadata": {
    "collapsed": false
   },
   "outputs": [
    {
     "data": {
      "text/plain": [
       "5×4 Array{Int64,2}:\n",
       " -3  -1  3  -1\n",
       " -1  -3  3   1\n",
       " -2   0  0   2\n",
       "  2  -3  2  -2\n",
       " -3   2  0  -1"
      ]
     },
     "metadata": {},
     "output_type": "display_data"
    },
    {
     "ename": "BoundsError",
     "evalue": "BoundsError: attempt to access 5×5 Array{Float64,2} at index [Base.Slice(Base.OneTo(5)), Base.LogicalIndex(Bool[false, true, true, false])]",
     "output_type": "error",
     "traceback": [
      "BoundsError: attempt to access 5×5 Array{Float64,2} at index [Base.Slice(Base.OneTo(5)), Base.LogicalIndex(Bool[false, true, true, false])]",
      "",
      "Stacktrace:",
      " [1] throw_boundserror(::Array{Float64,2}, ::Tuple{Base.Slice{Base.OneTo{Int64}},Base.LogicalIndex{Int64,BitArray{1}}}) at ./abstractarray.jl:484",
      " [2] checkbounds at ./abstractarray.jl:449 [inlined]",
      " [3] _getindex at ./multidimensional.jl:641 [inlined]",
      " [4] getindex(::Array{Float64,2}, ::Function, ::BitArray{1}) at ./abstractarray.jl:927",
      " [5] top-level scope at In[160]:27"
     ]
    }
   ],
   "source": [
    "using LinearAlgebra, Random\n",
    "Random.seed!(0)\n",
    "\n",
    "A = Random.rand(-3:3, 5, 4)\n",
    "display(A)\n",
    "AAT = A * A'\n",
    "ATA = A' * A\n",
    "SVD = svd(A, full = true)\n",
    "U, S, V = SVD.U, SVD.S, SVD.V\n",
    "S = diagm(0 => S)\n",
    "\n",
    "P = eigvecs(AAT)\n",
    "S1 = P' * AAT * P\n",
    "order = sortperm(diag(S1), rev = true)\n",
    "P = P[:, order]\n",
    "S1 = P' * AAT * P\n",
    "\n",
    "Q = eigvecs(ATA)\n",
    "S2 = Q' * ATA * Q\n",
    "order = sortperm(diag(S2), rev = true)\n",
    "Q = Q[:, order]\n",
    "S2 = Q' * ATA * Q\n",
    "\n",
    "m = size(P)[1]\n",
    "n = size(Q)[1]\n",
    "dg = diag(P' * A * Q)[1:min(m, n)]\n",
    "P[:, dg .< 0] = -P[:, dg .< 0]"
   ]
  }
 ],
 "metadata": {
  "anaconda-cloud": {},
  "kernelspec": {
   "display_name": "Julia 1.1.1",
   "language": "julia",
   "name": "julia-1.1"
  },
  "language_info": {
   "file_extension": ".jl",
   "mimetype": "application/julia",
   "name": "julia",
   "version": "1.1.1"
  }
 },
 "nbformat": 4,
 "nbformat_minor": 1
}
