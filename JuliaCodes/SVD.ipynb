{
 "cells": [
  {
   "cell_type": "code",
   "execution_count": 174,
   "metadata": {},
   "outputs": [
    {
     "data": {
      "text/plain": [
       "5×4 Array{Float64,2}:\n",
       "  0.0   0.0   0.0   0.0\n",
       " -0.0  -0.0  -0.0  -0.0\n",
       "  0.0   0.0   0.0   0.0\n",
       "  0.0   0.0   0.0   0.0\n",
       " -0.0  -0.0  -0.0   0.0"
      ]
     },
     "metadata": {},
     "output_type": "display_data"
    }
   ],
   "source": [
    "using LinearAlgebra, Random\n",
    "Random.seed!(0)\n",
    "\n",
    "A = Random.rand(-3:3, 5, 4)\n",
    "AAT = A * A'\n",
    "ATA = A' * A\n",
    "USV = svd(A, full = true)\n",
    "U, S, V = USV.U, USV.S, USV.V\n",
    "S = diagm(0 => S)\n",
    "\n",
    "P = eigvecs(AAT)\n",
    "S1 = P' * AAT * P\n",
    "order = sortperm(diag(S1), rev = true)\n",
    "P = P[:, order]\n",
    "S1 = P' * AAT * P\n",
    "\n",
    "Q = eigvecs(ATA)\n",
    "S2 = Q' * ATA * Q\n",
    "order = sortperm(diag(S2), rev = true)\n",
    "Q = Q[:, order]\n",
    "S2 = Q' * ATA * Q\n",
    "\n",
    "m = size(P)[1]\n",
    "n = size(Q)[1]\n",
    "dg = diag(P' * A * Q)[1:min(m, n)]\n",
    "if m <= n\n",
    "    P[:, dg .< 0] = -P[:, dg .< 0]\n",
    "else\n",
    "    Q[:, dg .< 0] = -Q[:, dg .< 0]\n",
    "end\n",
    "sigma = zeros(size(A))\n",
    "dg = diag(P' * A * Q)[1:min(m, n)]\n",
    "for i in 1:min(m, n)\n",
    "    sigma[i, i] = dg[i]\n",
    "end\n",
    "display(round.(P * sigma * Q' - A, digits = 2))"
   ]
  }
 ],
 "metadata": {
  "anaconda-cloud": {},
  "kernelspec": {
   "display_name": "Julia 1.1.1",
   "language": "julia",
   "name": "julia-1.1"
  },
  "language_info": {
   "file_extension": ".jl",
   "mimetype": "application/julia",
   "name": "julia",
   "version": "1.1.1"
  }
 },
 "nbformat": 4,
 "nbformat_minor": 1
}
